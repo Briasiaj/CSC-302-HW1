{
  "nbformat": 4,
  "nbformat_minor": 0,
  "metadata": {
    "colab": {
      "provenance": [],
      "authorship_tag": "ABX9TyNsIWvUixyf2TEH3VhFELxN",
      "include_colab_link": true
    },
    "kernelspec": {
      "name": "python3",
      "display_name": "Python 3"
    },
    "language_info": {
      "name": "python"
    }
  },
  "cells": [
    {
      "cell_type": "markdown",
      "metadata": {
        "id": "view-in-github",
        "colab_type": "text"
      },
      "source": [
        "<a href=\"https://colab.research.google.com/github/Briasiaj/CSC-302-HW1/blob/main/Joshua_ICA3.ipynb\" target=\"_parent\"><img src=\"https://colab.research.google.com/assets/colab-badge.svg\" alt=\"Open In Colab\"/></a>"
      ]
    },
    {
      "cell_type": "code",
      "execution_count": null,
      "metadata": {
        "colab": {
          "base_uri": "https://localhost:8080/",
          "height": 110
        },
        "id": "-a5X2QT0GoJd",
        "outputId": "611fed05-79c6-4c34-ba31-349d3378c7f7"
      },
      "outputs": [
        {
          "output_type": "error",
          "ename": "SyntaxError",
          "evalue": "invalid syntax (<ipython-input-2-ed2658d4bdb7>, line 12)",
          "traceback": [
            "\u001b[0;36m  File \u001b[0;32m\"<ipython-input-2-ed2658d4bdb7>\"\u001b[0;36m, line \u001b[0;32m12\u001b[0m\n\u001b[0;31m    for i, line in file enumerate(file)\u001b[0m\n\u001b[0m                        ^\u001b[0m\n\u001b[0;31mSyntaxError\u001b[0m\u001b[0;31m:\u001b[0m invalid syntax\n"
          ]
        }
      ],
      "source": [
        "from google.colab import drive\n",
        "drive.mount('/content/drive')\n",
        "\n",
        "file_path = \"/content/drive/MyDrive/DATA/lego_setsHB.csv\"\n",
        "price_dict ={}\n",
        "difficulty_dict ={}\n",
        "\n",
        "with open(file_path, \"r\", encoding=\"utf-8\") as file:\n",
        "  header = file.readline().strip().split(\",\")\n",
        "print(\"Header:\", header)\n",
        "\n",
        "for i, line in file enumerate(file)\n",
        "  if i == 1000:\n",
        "    break\n",
        "\n",
        "    parts = line.strip().split(\",\")\n",
        "\n",
        "    product_id = parts[4]\n",
        "    price = (parts[0])\n",
        "    difficulty = parts[5]\n",
        "\n",
        "    if product_id\n",
        "    if price:\n",
        "      price_dict[product_id] = float(price)\n",
        "    else:\n",
        "      price_dict[product_id] = difficulty\n",
        "\n",
        "print(\"First 5 items in Price Dictionary:\", list(price_dict.items())[:5])\n",
        "print(\"First 5 items in Difficulty Dictionary:\", list(difficulty_dict.items())[:5]\n",
        "\n"
      ]
    }
  ]
}